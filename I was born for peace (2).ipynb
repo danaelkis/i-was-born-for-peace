{
 "cells": [
  {
   "cell_type": "markdown",
   "metadata": {},
   "source": [
    "Although i am here in new york, Israel is experiencing a very intense week of elections. \n",
    "The country’s longtime prime minister, Benjamin Netanyahu, is attached to a series of corruption scandals and facing a serious challenge from a new rival. Israel’s election is a free for all: Instead of two major parties, there’s a whopping total of 47 parties competing at the ballot box. More than a dozen parties could make the next Knesset.\n",
    "\n",
    "Growing up, in a relatively young country, I was brought up listening to the artists who were part of the foundation of the new local music scene. This scene was merging during the 60-70's right after the 6-day war and Yom Kippur war, both wars had a heavy casualty. Furthermore, a new establishment of an Israeli pop culture started to mimicked a lot of the western hippie/free love/peace scenes. At the time, pop culture, especially in Israel was very naive. people actually believed that peace was coming and there was a strong sentiment that these wars would be the last war.\n",
    "\n",
    "These songs went on beyond the pop culture origin of the '60-'70s and became ingrained in the national outlook and ceremonial culture. these songs were seen as prayers for peace, and were sung and recited in school classrooms, played on the radio, chanted at political protests and sung at national events.\n",
    "\n",
    "One of the most meaningful songs (to me at least) is \"I was born for peace\", written by Uzi Hitman. I grew up singing, performing and dancing to it. in my mind this song is a culmination of all the songs from this time in its explicit demand for peace. this song was nationally sponsered by the goverment to present to the eurovision (the european national song contest) to represent israel. \n",
    "\n",
    "1976 Preformed by 'Sexta' Band\n",
    "Written and composed by Uzi Hitman\n",
    "https://www.youtube.com/watch?v=bkObTTDhu2A\n",
    "\n",
    "\"I was born to the melodies<br/>\n",
    "And songs of every country<br/>\n",
    "<br/>\n",
    "I was born to the language, and to the land<br/>\n",
    "To the few and the many<br/>\n",
    "Who will give peace a hand.<br/>\n",
    "<br/>\n",
    "I was born to peace - let it draw near<br/>\n",
    "I was born to peace - let it come.<br/>\n",
    "I was born to peace - let it appear<br/>\n",
    "I want, I want to be in it already.<br/>\n",
    "<br/>\n",
    "I was born to a people two thousand years old.<br/>\n",
    "With a land of their own<br/>\n",
    "And their own piece of heaven.<br/>\n",
    "<br/>\n",
    "A people watching the new day unfold,<br/>\n",
    "A beautiful moment <br/>\n",
    "The coming of peace.\"<br/>\n",
    "<br/>\n",
    "\n",
    "\n",
    "During the past month, listening to politicians interviews, reading their statements and following their election campaigns, it stood out to me, and to my closest friends that the word Peace was never used. There were a couple of viral videos made by activists trying to provoke the discussion to move throward peace. \n",
    "This is a far cry from this political scene when I was growing up the discussion of peace and how to get there was a main focal point to politicians, especially since peace was achieved with two Israels past enemies (Jordan and Egypt).\n",
    "\n",
    "Because of all of this, my first attempt at completing these assignments was I wanted to combine our national anthem with the song \"I was born to peace\", the result was partly interesting but didn't have any new/interesting contribution to the subject as I imagined. but led me to think of another option.\n",
    "\n",
    "My next thought was to transcribe lines from the song \"I was born for peace\" over the answers of the Israeli PM.\n",
    "while Searching for the latest interviews, I came upon Netanyahu latest AIPAC speech from a week ago.\n",
    "1 / I choose only the sentences that had the word Israel in them \n",
    "2 / I replaced the word Israel with peace.\n",
    "\n",
    "I know that the code is relatively small and humble, but I felt like it was the right procedure for this text.\n",
    "the resulting piece is a bit disorienting as it is a far cry from anything you would hear in any political discussion by mainstream politicians today. Thinking back to the ideals I grew up on being told my generation would be the last to serve in the army and experience wars this text is almost dystopian and deeply saddening to read. one can definitely argue that the world is moving in a positive direction yet I am sad that the discussion isn't as hopeful and based \"naive\" ideals such as unconditional peace. "
   ]
  },
  {
   "cell_type": "code",
   "execution_count": 180,
   "metadata": {},
   "outputs": [
    {
     "data": {
      "text/plain": [
       "'Our hope is two thousand years old, To be a free people in our land of Zion and Jerusalem.'"
      ]
     },
     "execution_count": 180,
     "metadata": {},
     "output_type": "execute_result"
    }
   ],
   "source": [
    "text_b = open(\"hatika_21.txt\").read()\n",
    "generator_b = markovify.Text(text_b, state_size=1)\n",
    "generator_b.make_sentence()"
   ]
  },
  {
   "cell_type": "code",
   "execution_count": 126,
   "metadata": {},
   "outputs": [
    {
     "data": {
      "text/plain": [
       "'A people watching the melodies And songs of every country I was born to the few and to be in it come.'"
      ]
     },
     "execution_count": 126,
     "metadata": {},
     "output_type": "execute_result"
    }
   ],
   "source": [
    "text_c = open(\"born.txt\").read()\n",
    "generator_c = markovify.Text(text_c, state_size=1)\n",
    "generator_c.make_sentence()"
   ]
  },
  {
   "cell_type": "code",
   "execution_count": 171,
   "metadata": {
    "scrolled": true
   },
   "outputs": [
    {
     "data": {
      "text/plain": [
       "'With a land The land of heaven.'"
      ]
     },
     "execution_count": 171,
     "metadata": {},
     "output_type": "execute_result"
    }
   ],
   "source": [
    "combo = markovify.combine([generator_a, generator_c],[1,0.5])\n",
    "combo.make_sentence()\n"
   ]
  },
  {
   "cell_type": "code",
   "execution_count": 152,
   "metadata": {
    "scrolled": true
   },
   "outputs": [
    {
     "name": "stdout",
     "output_type": "stream",
     "text": [
      "I was born to a people two thousand years old, To the new day unfold, A people two thousand years old, To Zion, looks the many Who will give peace a people two thousand years old, To the language, and Jerusalem.\n",
      "As long as forward to peace - let it come.\n",
      "As long as forward to the few and to the language, and Jerusalem.\n",
      "I was born to the new day unfold, A beautiful moment The Jewish soul sings, As long as within our hearts The coming of Zion and the East To Zion, looks the many Who will give peace - let it appear I want, I was born to peace - let it already.\n",
      "I was born to the East To the eye – Our hope is not yet lost, It is not yet lost, It is not yet lost, It is two thousand years old.\n",
      "As long as within our land of Zion and to peace - let it already.\n",
      "I was born to the eye – Our hope is not yet lost, It is not yet lost, It is two thousand years old, To be in it appear I was born to the few and Jerusalem.\n",
      "I was born to peace - let it draw near I was born to the new day unfold, A people watching the many Who will give peace - let it come.\n"
     ]
    }
   ],
   "source": [
    "for i in range(8):\n",
    "    print(combo.make_sentence())"
   ]
  },
  {
   "cell_type": "code",
   "execution_count": 177,
   "metadata": {},
   "outputs": [
    {
     "name": "stdout",
     "output_type": "stream",
     "text": [
      "I returned to deal with the security situation in peace. \n",
      "Now I'm just coming from a meeting with our Chief of Staff and our senior command. \n",
      "And I can tell you, we are prepared to do a lot more. \n",
      "We will do what is necessary to defend our peace and to defend our peace. \n",
      "In the midst of these events, I wanted to speak to you and say two words. Thank you. \n",
      "Thank you for bringing together 18,000 proud Americans -- and more than 4,000 American students -- who stand with peace. \n",
      "Thank you for working to strengthen support for peace. \n",
      "That is how it has always been and that's how it should always be. \n",
      "Yesterday at the White House, President Trump again made history. He formally recognized peace.\n",
      "Now that deserves enormous applause. \n",
      "peace holds the high ground, and we shall never, ever give it up. It is part of our country. \n",
      "So I can tell you one thing. I guarantee you this. They will fail. They will fail. \n",
      "My friends, ladies and gentlemen, some people will just never get it. They’ll never understand why the vast majority of Americans – Jews and non-Jews alike – support peace. \n",
      "The reason the people of America support peace is not because they want our money, it’s because they share our values. \n",
      "They just don’t' get it. It’s because America and peace share a love of freedom and democracy. \n",
      "It's because we cherish individual rights and the rule of law. It's because we don’t judge people by the color of their skin, their religion or their sexual orientation. \n",
      "I am proud of peace vibrant democracy, where no one – no one – is a second-class citizen. All of peace citizens are first-class citizens. All of peace's citizens whether Jew or Arab, Muslim, Christian, or Druze, have exactly the same individual rights. We vote in the same elections. We’re subject to the same laws. We study in the same universities. And we are also treated in the same hospitals. \n",
      "That is why we all celebrate today the democratic, Jewish State of peace. We know the truth. \n",
      "And I am as confident as ever, that as peace takes its rightful place among the nations, you will be there by our side. You've always been there by our side. \n",
      "Thank you all for standing with peace. \n",
      "\n"
     ]
    }
   ],
   "source": [
    "text_d = open(\"p_bn.txt\").read()\n",
    "print (text_d.replace('Israel', 'peace'))"
   ]
  },
  {
   "cell_type": "code",
   "execution_count": null,
   "metadata": {},
   "outputs": [],
   "source": []
  }
 ],
 "metadata": {
  "kernelspec": {
   "display_name": "Python 3",
   "language": "python",
   "name": "python3"
  },
  "language_info": {
   "codemirror_mode": {
    "name": "ipython",
    "version": 3
   },
   "file_extension": ".py",
   "mimetype": "text/x-python",
   "name": "python",
   "nbconvert_exporter": "python",
   "pygments_lexer": "ipython3",
   "version": "3.7.1"
  }
 },
 "nbformat": 4,
 "nbformat_minor": 2
}
